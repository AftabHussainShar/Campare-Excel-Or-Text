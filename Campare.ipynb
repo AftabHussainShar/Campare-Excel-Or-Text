{
 "cells": [
  {
   "cell_type": "code",
   "execution_count": null,
   "metadata": {},
   "outputs": [],
   "source": [
    "# Read content of first file\n",
    "with open('file1.txt', 'r') as file:\n",
    "    file1_content = file.readlines()\n",
    "\n",
    "# Read content of second file\n",
    "with open('file2.txt', 'r') as file:\n",
    "    file2_content = file.readlines()\n",
    "\n",
    "# Convert content to sets of rows\n",
    "file1_rows = set(file1_content)\n",
    "file2_rows = set(file2_content)\n",
    "\n",
    "# Identify rows present in file1 but not in file2\n",
    "rows_only_in_file1 = file1_rows - file2_rows\n",
    "\n",
    "# Identify rows present in file2 but not in file1\n",
    "rows_only_in_file2 = file2_rows - file1_rows\n",
    "\n",
    "# Output the results\n",
    "print(\"Rows present only in file 1:\")\n",
    "for row in rows_only_in_file1:\n",
    "    print(row.strip())\n",
    "\n",
    "print(\"\\nRows present only in file 2:\")\n",
    "for row in rows_only_in_file2:\n",
    "    print(row.strip())\n"
   ]
  },
  {
   "cell_type": "code",
   "execution_count": 1,
   "metadata": {},
   "outputs": [
    {
     "name": "stdout",
     "output_type": "stream",
     "text": [
      "Rows present only in file 1:\n",
      "('crissy_cavanaugh', 'Crissy\\n🍍Dietitian & Health Coach', 'https://www.instagram.com/crissy_cavanaugh', 'crissy_cavanaugh', '1,303', '1,283', 'https://scontent.cdninstagram.com/v/t51.2885-19/67560309_666142073794472_3311618083856056320_n.jpg?stp=dst-jpg_s150x150&_nc_ht=scontent.cdninstagram.com&_nc_cat=108&_nc_ohc=ONsObWOc-2gQ7kNvgGSAJFf&edm=APs17CUBAAAA&ccb=7-5&oh=00_AYCTMvbYngPDDvdWG_qjEKS7Bjj-0PHH6Wdknp1SUvlvag&oe=665E4187&_nc_sid=10d13b', '1,205', '6 days ago')\n",
      "('ashley.odenweller', '⭐️ ASHLEY ODENWELLER ⭐️\\n✨Sharing everyday life✨\\nMom Life | Fitness | Plants | Disney\\n📍 Columbus, Ohio\\nEmail: Ashley.odenweller@gmail.com\\nbeacons.ai/ashnicoden', 'https://www.instagram.com/ashley.odenweller', 'ashley.odenweller', '49.5K', '213', 'https://scontent.cdninstagram.com/v/t51.2885-19/420623943_350808937938715_2160268632028811784_n.jpg?stp=dst-jpg_s150x150&_nc_ht=scontent.cdninstagram.com&_nc_cat=107&_nc_ohc=6Xy9SY67vfEQ7kNvgG7KVu3&edm=APs17CUBAAAA&ccb=7-5&oh=00_AYDVk6_0aObq6i_xrJN4Mkk8VXvvoPRgOY9Ls-kELCjoSQ&oe=665E7E57&_nc_sid=10d13b', '5,753', '20 hours ago')\n",
      "('irwinnaturals', 'IrwinNaturals\\nirwinnaturals\\nHealth/beauty\\nShop Supplements Today! 🍃\\n🌱 Tag us in your story for a chance to be featured!\\nShop the sale: https://bit.ly/3lnHql1\\n5310 Beethoven St, Los Angeles, California 90066\\nlinktr.ee/irwinnaturals', 'https://www.instagram.com/irwinnaturals', 'irwinnaturals', '16.2K', '635', 'https://scontent.cdninstagram.com/v/t51.2885-19/271288352_388847702997923_9194313532647657783_n.jpg?stp=dst-jpg_s150x150&_nc_ht=scontent.cdninstagram.com&_nc_cat=111&_nc_ohc=EzhsD915SlcQ7kNvgFAfdLu&edm=APs17CUBAAAA&ccb=7-5&oh=00_AYCtZLAxrsJfZP4bSWGjvxc2sIL_eEvMMgPGnFObQflyqw&oe=665E2C07&_nc_sid=10d13b', '1,183', 'May 18, 2023')\n",
      "('arsy.vartanian', 'Arsineh Vartanian\\narsy.vartanian\\n〰 Cookbook Author & Blogger\\n〰 Beautycounter Managing Director\\nhealthy recipes, safer beauty + more ⤵︎\\ntap.bio/@arsyvartanian', 'https://www.instagram.com/arsy.vartanian', 'arsy.vartanian', '18.6K', '1,330', 'https://scontent.cdninstagram.com/v/t51.2885-19/88204899_2578182572507795_4011708408917917696_n.jpg?stp=dst-jpg_s150x150&_nc_ht=scontent.cdninstagram.com&_nc_cat=111&_nc_ohc=_pPtrGcLjrMQ7kNvgH2pwc6&edm=APs17CUBAAAA&ccb=7-5&oh=00_AYCnFB3ADm526NvkCLaFZ7R7wNODcvkPwUBJG3RAyScqBg&oe=665DA3B2&_nc_sid=10d13b', '2,110', 'March 5, 2023')\n",
      "('hyalogic_ha', 'Hyalogic\\nHealth/beauty\\nHyaluronic Acid Experts👉🏼We use nature’s moisturizer for younger looking skin + whole body hydration💧\\n👇🏼Shop our rejuvenating skincare + supplements\\nlinktr.ee/hyalogic_ha1', 'https://www.instagram.com/hyalogic_ha', 'hyalogic_ha', '2,928', '1,218', 'https://scontent.cdninstagram.com/v/t51.2885-19/59375430_2259667167683538_7619816370208768000_n.jpg?stp=dst-jpg_s150x150&_nc_ht=scontent.cdninstagram.com&_nc_cat=106&_nc_ohc=yN_bb7NWmW4Q7kNvgE3C6ty&edm=APs17CUBAAAA&ccb=7-5&oh=00_AYDuteokBaO0AsvYKT7Res4-A6bVjTxtcMGjk8lToYkLig&oe=665D622A&_nc_sid=10d13b', '1,191', '6 days ago')\n",
      "('acurebeauty', 'Acure\\nacurebeauty\\nHealth/beauty\\n〰️Products With Purpose.\\n✨Science-backed skincare that works.\\nacure.com', 'https://www.instagram.com/acurebeauty', 'acurebeauty', '269K', '2,838', 'https://scontent.cdninstagram.com/v/t51.2885-19/402766975_882283226559222_6274996533453478417_n.jpg?stp=dst-jpg_s150x150&_nc_ht=scontent.cdninstagram.com&_nc_cat=106&_nc_ohc=WjbGnglW2D8Q7kNvgGqQtGd&edm=APs17CUBAAAA&ccb=7-5&oh=00_AYDx6KHoqcQi4CUj9eeNdvM16m32bUGMSLdFHJcx4Lp9gA&oe=665D89AF&_nc_sid=10d13b', '1,546', '9 hours ago')\n",
      "('acurebeauty', 'Acure\\nacurebeauty\\nHealth/beauty\\n〰️Products With Purpose.\\n✨Science-backed skincare that works.\\nacure.com', 'https://www.instagram.com/acurebeauty', 'acurebeauty', '269K', '2,838', 'https://scontent.cdninstagram.com/v/t51.2885-19/402766975_882283226559222_6274996533453478417_n.jpg?stp=dst-jpg_s150x150&_nc_ht=scontent.cdninstagram.com&_nc_cat=106&_nc_ohc=WjbGnglW2D8Q7kNvgH3H3Qw&edm=APs17CUBAAAA&ccb=7-5&oh=00_AYD7k6Hf2imMMnrOcPzw1ogo2fkfz_TOyiieZVpB_qfGDw&oe=665EDB2F&_nc_sid=10d13b', '1,547', '8 hours ago')\n",
      "('hylandsnaturals', \"Hyland's Naturals®\\nHealth & wellness website\\nFrom a name millions have trusted, you can rely on Hyland's Naturals to care for your family's well-being. #hylandsnaturals\\nwww.hylands.com + 1\", 'https://www.instagram.com/hylandsnaturals', 'hylandsnaturals', '24.9K', '657', 'https://scontent.cdninstagram.com/v/t51.2885-19/434727231_380938914403279_206937677978817604_n.jpg?stp=dst-jpg_s150x150&_nc_ht=scontent.cdninstagram.com&_nc_cat=107&_nc_ohc=y0PEG6JzRIwQ7kNvgE4o3bq&edm=APs17CUBAAAA&ccb=7-5&oh=00_AYAMjL7_vw0395PZT-uTdgoQkxSbGlQd50vSV3TNssQtnA&oe=665D894C&_nc_sid=10d13b', '2,989', '20 hours ago')\n",
      "('irwinnaturals', 'IrwinNaturals\\nirwinnaturals\\nHealth/beauty\\nShop Supplements Today! 🍃\\n🌱 Tag us in your story for a chance to be featured!\\nShop the sale: https://bit.ly/3lnHql1\\n5310 Beethoven St, Los Angeles, California 90066\\nlinktr.ee/irwinnaturals', 'https://www.instagram.com/irwinnaturals', 'irwinnaturals', '16.2K', '635', 'https://scontent.cdninstagram.com/v/t51.2885-19/271288352_388847702997923_9194313532647657783_n.jpg?stp=dst-jpg_s150x150&_nc_ht=scontent.cdninstagram.com&_nc_cat=111&_nc_ohc=LAqeMo5GfkQQ7kNvgFAknJ3&edm=APs17CUBAAAA&ccb=7-5&oh=00_AYBangWKHvVPH0MtCe__JUf_9f3yuuo8cz_ySbhpC-x7kw&oe=665D8347&_nc_sid=10d13b', '1,183', 'May 18, 2023')\n",
      "('thebigmansworld', 'Arman Liew\\nthebigmansworld\\nPublic figure\\n🤠 The Big Man’s World ®️\\n📚 2 x Bestselling Cookbook Author\\nCLICK FOR ALL RECIPES ⬇️⬇️\\n🥞 ORIGINAL Healthy Recipes\\n📍Melbourne, AUSTRALIA 🇦🇺\\nlinktr.ee/thebigmansworld + 2', 'https://www.instagram.com/thebigmansworld', 'thebigmansworld', '1.3M', '214', 'https://scontent.cdninstagram.com/v/t51.2885-19/348691614_3515238655426698_8919161501038108079_n.jpg?stp=dst-jpg_s150x150&_nc_ht=scontent.cdninstagram.com&_nc_cat=1&_nc_ohc=U0JSjkWMcPkQ7kNvgGgzRzc&edm=APs17CUBAAAA&ccb=7-5&oh=00_AYDNqwVqmPXkxSQyBjPHEpqCIWfvprZjlB6ZCkqNeZuxlg&oe=665EB410&_nc_sid=10d13b', '4,094', '1 minute ago')\n",
      "('___wolverine____', '吳志鴻\\n___wolverine____\\nFitness Trainer\\n💍 @__hazel_hsuan__\\n🛖 @90percent_rts\\n台中健身教練\\n動作優化\\n動作控制\\n健美訓練\\n🇹🇼🏄\\u200d♀️⛺️🏍️🌊🌞🤿🧗\\u200d♂️⛰️📷\\n————————————\\n#自由教練 #健體 #健身 #台中 #衝浪 #露營 #凹豆 #重機\\n教練課評估預約表單👇🏼👇🏼👇🏼\\ndocs.google.com/forms/d/e/1FAIpQLSdPyvyW1kTGkN5wmA_0HO3WGJFYQ3qm1CLOcFdqtvrKTpTVzw/viewform', 'https://www.instagram.com/___wolverine____', '___wolverine____', '1,623', '1,779', 'https://scontent.cdninstagram.com/v/t51.2885-19/446809159_463394639406433_661158716199551660_n.jpg?stp=dst-jpg_s150x150&_nc_ht=scontent.cdninstagram.com&_nc_cat=101&_nc_ohc=3AgjD0ZNzk4Q7kNvgFGDCCH&edm=APs17CUBAAAA&ccb=7-5&oh=00_AYCNuE4l6Zp5M_stYDpEBGylVpPGmvjOLmYWjvx_7kxdcQ&oe=665E06B8&_nc_sid=10d13b', '967', 'May 30, 2023')\n",
      "('arderbotanicals', 'ˈärdər\\nHealth & wellness website\\n𝑨𝒏𝒄𝒊𝒆𝒏𝒕 𝑴𝒆𝒅𝒊𝒄𝒊𝒏𝒂𝒍𝒔 𝒇𝒐𝒓 𝒕𝒉𝒆 𝑴𝒐𝒅𝒆𝒓𝒏 𝑾𝒐𝒎𝒂𝒏 ✨🌱\\n•Mother + Daughter created & crafted\\nWE’RE ENTERING A NEW PHASE 🌒🌕🌘\\n(Follow or sign-up below for updates)\\nwww.arderbotanicals.com', 'https://www.instagram.com/arderbotanicals', 'arderbotanicals', '666', '1,059', 'https://scontent.cdninstagram.com/v/t51.2885-19/127811084_134661641489932_8938287315567425093_n.jpg?stp=dst-jpg_s150x150&_nc_ht=scontent.cdninstagram.com&_nc_cat=104&_nc_ohc=aaTcBeZcOBYQ7kNvgEsWhh6&edm=APs17CUBAAAA&ccb=7-5&oh=00_AYDHBcZIoLWQ7wI7vMjJ1YR5vFBkD4shZ9kRKX4P_t2pxg&oe=665E7889&_nc_sid=10d13b', '409', 'December 25, 2021')\n",
      "('sungmin_miracle', '조성민♥\\nsungmin_miracle\\nHealth/beauty\\n#피부미용자격증반\\n#피부미용창업\\n#성장관리프로그램\\n#아이돌두상관리\\n#퍼스널브랜드\\n#교육문의 #사업문의\\nlinkon.id/sungmin3333', 'https://www.instagram.com/sungmin_miracle', 'sungmin_miracle', '3,946', '3,451', 'https://scontent.cdninstagram.com/v/t51.2885-19/285296249_701062294460323_545905877538882554_n.jpg?stp=dst-jpg_s150x150&_nc_ht=scontent.cdninstagram.com&_nc_cat=107&_nc_ohc=WdPOyMA11uwQ7kNvgFdgyaC&edm=APs17CUBAAAA&ccb=7-5&oh=00_AYBrn6GOfeEKY5DbA9u_YLstLaP8xnwhXxTF9cyXW67AVA&oe=665D9C32&_nc_sid=10d13b', '281', 'Not found')\n",
      "('acurebeauty', 'Acure\\nacurebeauty\\nHealth/beauty\\n〰️Products With Purpose.\\n✨Science-backed skincare that works.\\nacure.com', 'https://www.instagram.com/acurebeauty', 'acurebeauty', '269K', '2,838', 'https://scontent.cdninstagram.com/v/t51.2885-19/402766975_882283226559222_6274996533453478417_n.jpg?stp=dst-jpg_s150x150&_nc_ht=scontent.cdninstagram.com&_nc_cat=106&_nc_ohc=WjbGnglW2D8Q7kNvgEEA9WI&edm=APs17CUBAAAA&ccb=7-5&oh=00_AYAr5yUYJcDlLWEcqUODBOHDyHXeN0iInEB_2b1GI7zsUQ&oe=665E326F&_nc_sid=10d13b', '1,546', '20 hours ago')\n",
      "('schmidtsnaturals', \"Schmidt's Naturals\\nThe natural deodorant you ❤️\\nNeed proof? Just ask the 20k 5 ⭐️ reviews.\\nCrush your fear of body odor with @mrapinoe ⬇️\\nschmidts.com\", 'https://www.instagram.com/schmidtsnaturals', 'schmidtsnaturals', '121K', '1,293', 'https://scontent.cdninstagram.com/v/t51.2885-19/229945308_233316795323352_2640730447369681604_n.jpg?stp=dst-jpg_s150x150&_nc_ht=scontent.cdninstagram.com&_nc_cat=100&_nc_ohc=zSuiEdNKX9kQ7kNvgEN4qsu&edm=APs17CUBAAAA&ccb=7-5&oh=00_AYCx3RMc4FoY6hqoNRt_xWhQnAnEOOIUp-f83QV_-VeJew&oe=665EC378&_nc_sid=10d13b', '1,777', 'August 5, 2022')\n",
      "('schmidtsnaturals', \"Schmidt's Naturals\\nThe natural deodorant you ❤️\\nNeed proof? Just ask the 20k 5 ⭐️ reviews.\\nCrush your fear of body odor with @mrapinoe ⬇️\\nschmidts.com\", 'https://www.instagram.com/schmidtsnaturals', 'schmidtsnaturals', '121K', '1,293', 'https://scontent.cdninstagram.com/v/t51.2885-19/229945308_233316795323352_2640730447369681604_n.jpg?stp=dst-jpg_s150x150&_nc_ht=scontent.cdninstagram.com&_nc_cat=100&_nc_ohc=zSuiEdNKX9kQ7kNvgHd-o6h&edm=APs17CUBAAAA&ccb=7-5&oh=00_AYCHKneYdJmgxM8mBY4MkFyCe_tlhyRCjDNsdaE8IypdeQ&oe=665D71F8&_nc_sid=10d13b', '1,777', 'August 5, 2022')\n",
      "('imchristinakotova', '⚔️ @letmepierce ⚔️\\nnpc wellness\\n22’ BRZ', 'https://www.instagram.com/imchristinakotova', 'imchristinakotova', '1,724', '519', 'https://scontent.cdninstagram.com/v/t51.2885-19/274255489_678567976510803_9179613861121218405_n.jpg?stp=dst-jpg_s150x150&_nc_ht=scontent.cdninstagram.com&_nc_cat=103&_nc_ohc=_UqN18hXn8EQ7kNvgFtv3nj&edm=APs17CUBAAAA&ccb=7-5&oh=00_AYAhrMGCoAyRwq2RE7e8PGuNFD9CLr0_C4ua88DEkAW_sQ&oe=665D6610&_nc_sid=10d13b', '92', 'March 22')\n",
      "\n",
      "Rows present only in file 2:\n"
     ]
    }
   ],
   "source": [
    "import csv\n",
    "\n",
    "# Read content of first CSV file\n",
    "file1_rows = set()\n",
    "with open('F-Profiles.csv', 'r', newline='', encoding='utf-8') as file:\n",
    "    csv_reader = csv.reader(file)\n",
    "    for row in csv_reader:\n",
    "        file1_rows.add(tuple(row))\n",
    "\n",
    "# Read content of second CSV file\n",
    "file2_rows = set()\n",
    "with open('Profiles-out-of-2900-filtered-17-drop.csv', 'r', newline='', encoding='utf-8') as file:\n",
    "    csv_reader = csv.reader(file)\n",
    "    for row in csv_reader:\n",
    "        file2_rows.add(tuple(row))\n",
    "\n",
    "# Identify rows present in file1 but not in file2\n",
    "rows_only_in_file1 = file1_rows - file2_rows\n",
    "\n",
    "# Identify rows present in file2 but not in file1\n",
    "rows_only_in_file2 = file2_rows - file1_rows\n",
    "\n",
    "# Output the results\n",
    "print(\"Rows present only in file 1:\")\n",
    "for row in rows_only_in_file1:\n",
    "    print(row)\n",
    "\n",
    "print(\"\\nRows present only in file 2:\")\n",
    "for row in rows_only_in_file2:\n",
    "    print(row)\n"
   ]
  }
 ],
 "metadata": {
  "kernelspec": {
   "display_name": "Python 3",
   "language": "python",
   "name": "python3"
  },
  "language_info": {
   "codemirror_mode": {
    "name": "ipython",
    "version": 3
   },
   "file_extension": ".py",
   "mimetype": "text/x-python",
   "name": "python",
   "nbconvert_exporter": "python",
   "pygments_lexer": "ipython3",
   "version": "3.12.1"
  }
 },
 "nbformat": 4,
 "nbformat_minor": 2
}
